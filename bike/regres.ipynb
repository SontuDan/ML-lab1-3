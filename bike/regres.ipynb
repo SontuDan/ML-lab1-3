{
 "cells": [
  {
   "cell_type": "code",
   "execution_count": 1,
   "id": "882b0233-d356-472c-a514-4ebea53e3ebf",
   "metadata": {},
   "outputs": [],
   "source": [
    "import pandas as pd\n",
    "import numpy as np\n",
    "import matplotlib.pyplot as plt\n",
    "import seaborn as sns\n",
    "from sklearn.model_selection import train_test_split\n",
    "from sklearn.linear_model import LinearRegression\n",
    "from sklearn.neighbors import KNeighborsRegressor\n",
    "from sklearn.metrics import mean_squared_error, r2_score"
   ]
  },
  {
   "cell_type": "code",
   "execution_count": 2,
   "id": "ad8d73b0-a961-4426-b0a8-8a863b9e97ca",
   "metadata": {},
   "outputs": [],
   "source": [
    "# Load the datasets\n",
    "hour_data = pd.read_csv('hour.csv')\n",
    "day_data = pd.read_csv('day.csv')\n"
   ]
  },
  {
   "cell_type": "code",
   "execution_count": 3,
   "id": "a3f7a3ad-a7a1-459b-bb72-3cae96dbb96f",
   "metadata": {},
   "outputs": [],
   "source": [
    "# Aggregate the hourly data by day\n",
    "hourly_grouped = hour_data.groupby('dteday').agg({\n",
    "    'casual': 'sum',\n",
    "    'registered': 'sum'\n",
    "}).reset_index()\n",
    "\n",
    "# Merge the aggregated hourly data with the daily data\n",
    "merged_data = pd.merge(day_data, hourly_grouped, on='dteday', suffixes=('_daily', '_hourly'))\n",
    "df = merged_data\n"
   ]
  },
  {
   "cell_type": "markdown",
   "id": "e9019ae9-4e45-4474-9db8-81622d5a4d20",
   "metadata": {},
   "source": [
    "## 2. Preprocesarea datelor\n",
    "\n"
   ]
  },
  {
   "cell_type": "code",
   "execution_count": 4,
   "id": "63de8c28-ae85-44b2-99ab-e8ff0b00428c",
   "metadata": {},
   "outputs": [
    {
     "name": "stdout",
     "output_type": "stream",
     "text": [
      "Primele 5 rânduri ale setului de date zilnic:\n",
      "   instant      dteday  season  yr  mnth  holiday  weekday  workingday  \\\n",
      "0        1  2011-01-01       1   0     1        0        6           0   \n",
      "1        2  2011-01-02       1   0     1        0        0           0   \n",
      "2        3  2011-01-03       1   0     1        0        1           1   \n",
      "3        4  2011-01-04       1   0     1        0        2           1   \n",
      "4        5  2011-01-05       1   0     1        0        3           1   \n",
      "\n",
      "   weathersit      temp     atemp       hum  windspeed  casual  registered  \\\n",
      "0           2  0.344167  0.363625  0.805833   0.160446     331         654   \n",
      "1           2  0.363478  0.353739  0.696087   0.248539     131         670   \n",
      "2           1  0.196364  0.189405  0.437273   0.248309     120        1229   \n",
      "3           1  0.200000  0.212122  0.590435   0.160296     108        1454   \n",
      "4           1  0.226957  0.229270  0.436957   0.186900      82        1518   \n",
      "\n",
      "    cnt  \n",
      "0   985  \n",
      "1   801  \n",
      "2  1349  \n",
      "3  1562  \n",
      "4  1600  \n",
      "Primele 5 rânduri ale setului de date orar:\n",
      "   instant      dteday  season  yr  mnth  hr  holiday  weekday  workingday  \\\n",
      "0        1  2011-01-01       1   0     1   0        0        6           0   \n",
      "1        2  2011-01-01       1   0     1   1        0        6           0   \n",
      "2        3  2011-01-01       1   0     1   2        0        6           0   \n",
      "3        4  2011-01-01       1   0     1   3        0        6           0   \n",
      "4        5  2011-01-01       1   0     1   4        0        6           0   \n",
      "\n",
      "   weathersit  temp   atemp   hum  windspeed  casual  registered  cnt  \n",
      "0           1  0.24  0.2879  0.81        0.0       3          13   16  \n",
      "1           1  0.22  0.2727  0.80        0.0       8          32   40  \n",
      "2           1  0.22  0.2727  0.80        0.0       5          27   32  \n",
      "3           1  0.24  0.2879  0.75        0.0       3          10   13  \n",
      "4           1  0.24  0.2879  0.75        0.0       0           1    1  \n"
     ]
    }
   ],
   "source": [
    "# a) Vizualizarea datelor\n",
    "print(\"Primele 5 rânduri ale setului de date zilnic:\")\n",
    "print(day_data.head())\n",
    "\n",
    "print(\"Primele 5 rânduri ale setului de date orar:\")\n",
    "print(hour_data.head())\n"
   ]
  },
  {
   "cell_type": "code",
   "execution_count": 5,
   "id": "30a5a2bb-fef0-4a7f-a5c4-c8dbd46a15e6",
   "metadata": {},
   "outputs": [
    {
     "name": "stdout",
     "output_type": "stream",
     "text": [
      "\n",
      "Statistici descriptive pentru datele zilnice:\n",
      "          instant      season          yr        mnth     holiday     weekday  \\\n",
      "count  731.000000  731.000000  731.000000  731.000000  731.000000  731.000000   \n",
      "mean   366.000000    2.496580    0.500684    6.519836    0.028728    2.997264   \n",
      "std    211.165812    1.110807    0.500342    3.451913    0.167155    2.004787   \n",
      "min      1.000000    1.000000    0.000000    1.000000    0.000000    0.000000   \n",
      "25%    183.500000    2.000000    0.000000    4.000000    0.000000    1.000000   \n",
      "50%    366.000000    3.000000    1.000000    7.000000    0.000000    3.000000   \n",
      "75%    548.500000    3.000000    1.000000   10.000000    0.000000    5.000000   \n",
      "max    731.000000    4.000000    1.000000   12.000000    1.000000    6.000000   \n",
      "\n",
      "       workingday  weathersit        temp       atemp         hum   windspeed  \\\n",
      "count  731.000000  731.000000  731.000000  731.000000  731.000000  731.000000   \n",
      "mean     0.683995    1.395349    0.495385    0.474354    0.627894    0.190486   \n",
      "std      0.465233    0.544894    0.183051    0.162961    0.142429    0.077498   \n",
      "min      0.000000    1.000000    0.059130    0.079070    0.000000    0.022392   \n",
      "25%      0.000000    1.000000    0.337083    0.337842    0.520000    0.134950   \n",
      "50%      1.000000    1.000000    0.498333    0.486733    0.626667    0.180975   \n",
      "75%      1.000000    2.000000    0.655417    0.608602    0.730209    0.233214   \n",
      "max      1.000000    3.000000    0.861667    0.840896    0.972500    0.507463   \n",
      "\n",
      "            casual   registered          cnt  \n",
      "count   731.000000   731.000000   731.000000  \n",
      "mean    848.176471  3656.172367  4504.348837  \n",
      "std     686.622488  1560.256377  1937.211452  \n",
      "min       2.000000    20.000000    22.000000  \n",
      "25%     315.500000  2497.000000  3152.000000  \n",
      "50%     713.000000  3662.000000  4548.000000  \n",
      "75%    1096.000000  4776.500000  5956.000000  \n",
      "max    3410.000000  6946.000000  8714.000000  \n",
      "\n",
      "Statistici descriptive pentru datele orare:\n",
      "          instant        season            yr          mnth            hr  \\\n",
      "count  17379.0000  17379.000000  17379.000000  17379.000000  17379.000000   \n",
      "mean    8690.0000      2.501640      0.502561      6.537775     11.546752   \n",
      "std     5017.0295      1.106918      0.500008      3.438776      6.914405   \n",
      "min        1.0000      1.000000      0.000000      1.000000      0.000000   \n",
      "25%     4345.5000      2.000000      0.000000      4.000000      6.000000   \n",
      "50%     8690.0000      3.000000      1.000000      7.000000     12.000000   \n",
      "75%    13034.5000      3.000000      1.000000     10.000000     18.000000   \n",
      "max    17379.0000      4.000000      1.000000     12.000000     23.000000   \n",
      "\n",
      "            holiday       weekday    workingday    weathersit          temp  \\\n",
      "count  17379.000000  17379.000000  17379.000000  17379.000000  17379.000000   \n",
      "mean       0.028770      3.003683      0.682721      1.425283      0.496987   \n",
      "std        0.167165      2.005771      0.465431      0.639357      0.192556   \n",
      "min        0.000000      0.000000      0.000000      1.000000      0.020000   \n",
      "25%        0.000000      1.000000      0.000000      1.000000      0.340000   \n",
      "50%        0.000000      3.000000      1.000000      1.000000      0.500000   \n",
      "75%        0.000000      5.000000      1.000000      2.000000      0.660000   \n",
      "max        1.000000      6.000000      1.000000      4.000000      1.000000   \n",
      "\n",
      "              atemp           hum     windspeed        casual    registered  \\\n",
      "count  17379.000000  17379.000000  17379.000000  17379.000000  17379.000000   \n",
      "mean       0.475775      0.627229      0.190098     35.676218    153.786869   \n",
      "std        0.171850      0.192930      0.122340     49.305030    151.357286   \n",
      "min        0.000000      0.000000      0.000000      0.000000      0.000000   \n",
      "25%        0.333300      0.480000      0.104500      4.000000     34.000000   \n",
      "50%        0.484800      0.630000      0.194000     17.000000    115.000000   \n",
      "75%        0.621200      0.780000      0.253700     48.000000    220.000000   \n",
      "max        1.000000      1.000000      0.850700    367.000000    886.000000   \n",
      "\n",
      "                cnt  \n",
      "count  17379.000000  \n",
      "mean     189.463088  \n",
      "std      181.387599  \n",
      "min        1.000000  \n",
      "25%       40.000000  \n",
      "50%      142.000000  \n",
      "75%      281.000000  \n",
      "max      977.000000  \n"
     ]
    }
   ],
   "source": [
    "# b) Vizualizarea statisticilor descriptive\n",
    "print(\"\\nStatistici descriptive pentru datele zilnice:\")\n",
    "print(day_data.describe())\n",
    "\n",
    "print(\"\\nStatistici descriptive pentru datele orare:\")\n",
    "print(hour_data.describe())\n"
   ]
  },
  {
   "cell_type": "code",
   "execution_count": 6,
   "id": "fb40ff31-3fa2-451c-8421-d353b718d958",
   "metadata": {},
   "outputs": [
    {
     "name": "stdout",
     "output_type": "stream",
     "text": [
      "\n",
      "Valori lipsă în setul de date zilnic:\n",
      "instant       0\n",
      "dteday        0\n",
      "season        0\n",
      "yr            0\n",
      "mnth          0\n",
      "holiday       0\n",
      "weekday       0\n",
      "workingday    0\n",
      "weathersit    0\n",
      "temp          0\n",
      "atemp         0\n",
      "hum           0\n",
      "windspeed     0\n",
      "casual        0\n",
      "registered    0\n",
      "cnt           0\n",
      "dtype: int64\n",
      "\n",
      "Valori lipsă în setul de date orar:\n",
      "instant       0\n",
      "dteday        0\n",
      "season        0\n",
      "yr            0\n",
      "mnth          0\n",
      "hr            0\n",
      "holiday       0\n",
      "weekday       0\n",
      "workingday    0\n",
      "weathersit    0\n",
      "temp          0\n",
      "atemp         0\n",
      "hum           0\n",
      "windspeed     0\n",
      "casual        0\n",
      "registered    0\n",
      "cnt           0\n",
      "dtype: int64\n"
     ]
    }
   ],
   "source": [
    "\n",
    "\n",
    "# c) Tratarea valorilor lipsă\n",
    "print(\"\\nValori lipsă în setul de date zilnic:\")\n",
    "print(day_data.isnull().sum())\n",
    "\n",
    "print(\"\\nValori lipsă în setul de date orar:\")\n",
    "print(hour_data.isnull().sum())"
   ]
  },
  {
   "cell_type": "code",
   "execution_count": 7,
   "id": "91320256-11dd-48af-abeb-b4e8b6a588ca",
   "metadata": {},
   "outputs": [],
   "source": [
    "# d) Detectarea și eliminarea outlierilor folosind IQR\n",
    "def remove_outliers(df, column):\n",
    "    Q1 = df[column].quantile(0.25)\n",
    "    Q3 = df[column].quantile(0.75)\n",
    "    IQR = Q3 - Q1\n",
    "    lower_bound = Q1 - 1.5 * IQR\n",
    "    upper_bound = Q3 + 1.5 * IQR\n",
    "    return df[(df[column] >= lower_bound) & (df[column] <= upper_bound)]\n"
   ]
  },
  {
   "cell_type": "code",
   "execution_count": 8,
   "id": "1cadb598-8782-4688-ac6d-234fab328df2",
   "metadata": {},
   "outputs": [
    {
     "name": "stdout",
     "output_type": "stream",
     "text": [
      "\n",
      "Statistici descriptive după eliminarea outlierilor:\n",
      "          instant      season          yr        mnth     holiday     weekday  \\\n",
      "count  687.000000  687.000000  687.000000  687.000000  687.000000  687.000000   \n",
      "mean   357.339156    2.486172    0.477438    6.512373    0.026201    2.965066   \n",
      "std    212.261294    1.128493    0.499855    3.517065    0.159849    1.932219   \n",
      "min      1.000000    1.000000    0.000000    1.000000    0.000000    0.000000   \n",
      "25%    173.500000    1.000000    0.000000    3.000000    0.000000    1.000000   \n",
      "50%    350.000000    2.000000    0.000000    7.000000    0.000000    3.000000   \n",
      "75%    543.500000    3.000000    1.000000   10.000000    0.000000    5.000000   \n",
      "max    731.000000    4.000000    1.000000   12.000000    1.000000    6.000000   \n",
      "\n",
      "       workingday  weathersit        temp       atemp         hum   windspeed  \\\n",
      "count  687.000000  687.000000  687.000000  687.000000  687.000000  687.000000   \n",
      "mean     0.726346    1.403202    0.487475    0.467232    0.628917    0.191123   \n",
      "std      0.446158    0.549732    0.184392    0.164292    0.143854    0.078409   \n",
      "min      0.000000    1.000000    0.059130    0.079070    0.000000    0.022392   \n",
      "25%      0.000000    1.000000    0.327917    0.326064    0.520000    0.134952   \n",
      "50%      1.000000    1.000000    0.475833    0.466525    0.626667    0.180967   \n",
      "75%      1.000000    2.000000    0.650416    0.604811    0.733334    0.234051   \n",
      "max      1.000000    3.000000    0.861667    0.840896    0.972500    0.507463   \n",
      "\n",
      "            casual   registered          cnt  \n",
      "count   687.000000   687.000000   687.000000  \n",
      "mean    732.010189  3608.756914  4340.767103  \n",
      "std     521.433756  1580.356697  1866.258997  \n",
      "min       2.000000    20.000000    22.000000  \n",
      "25%     295.000000  2452.500000  3002.000000  \n",
      "50%     674.000000  3603.000000  4381.000000  \n",
      "75%    1026.500000  4686.000000  5583.500000  \n",
      "max    2258.000000  6946.000000  8173.000000  \n"
     ]
    }
   ],
   "source": [
    "# Aplicăm eliminarea outlierilor pe setul de date zilnic\n",
    "columns_to_check = ['casual', 'registered', 'cnt']\n",
    "for col in columns_to_check:\n",
    "    day_data = remove_outliers(day_data, col)\n",
    "\n",
    "# Aplicăm eliminarea outlierilor pe setul de date orar\n",
    "for col in columns_to_check:\n",
    "    hour_data = remove_outliers(hour_data, col)\n",
    "\n",
    "# Verificăm dacă eliminarea outlierilor a avut efect\n",
    "print(\"\\nStatistici descriptive după eliminarea outlierilor:\")\n",
    "print(day_data.describe())"
   ]
  },
  {
   "cell_type": "markdown",
   "id": "5464e94b-8754-4286-ac3e-7ea791402ccb",
   "metadata": {},
   "source": [
    "## 3. Elaborarea modelelor de regresie"
   ]
  },
  {
   "cell_type": "code",
   "execution_count": 9,
   "id": "4fb38fa0-369b-4736-9471-8461e4c70783",
   "metadata": {},
   "outputs": [],
   "source": [
    "# Pregătirea datelor pentru regresie\n",
    "features = ['temp', 'atemp', 'hum', 'windspeed']\n",
    "target = 'cnt'\n",
    "\n",
    "X = day_data[features]\n",
    "y = day_data[target]"
   ]
  },
  {
   "cell_type": "code",
   "execution_count": 10,
   "id": "3c9657a5-2c8b-4a4e-b0d6-55c0bd540074",
   "metadata": {},
   "outputs": [],
   "source": [
    "# Împărțirea în seturi de antrenare și testare\n",
    "X_train, X_test, y_train, y_test = train_test_split(X, y, test_size=0.2, random_state=42)\n"
   ]
  },
  {
   "cell_type": "code",
   "execution_count": 11,
   "id": "5da4570e-8305-420a-81f7-57a0cf890102",
   "metadata": {},
   "outputs": [],
   "source": [
    "# a) Modelul de regresie liniară\n",
    "lin_reg = LinearRegression()\n",
    "lin_reg.fit(X_train, y_train)\n",
    "y_pred_lin = lin_reg.predict(X_test)\n",
    "\n",
    "# b) Modelul k-NN\n",
    "knn = KNeighborsRegressor(n_neighbors=5)\n",
    "knn.fit(X_train, y_train)\n",
    "y_pred_knn = knn.predict(X_test)\n"
   ]
  },
  {
   "cell_type": "code",
   "execution_count": 12,
   "id": "91554164-a7be-4122-a085-7de89276e9ce",
   "metadata": {},
   "outputs": [],
   "source": [
    "# 4. Compararea performanțelor modelelor\n",
    "lin_rmse = np.sqrt(mean_squared_error(y_test, y_pred_lin))\n",
    "lin_r2 = r2_score(y_test, y_pred_lin)\n",
    "\n",
    "knn_rmse = np.sqrt(mean_squared_error(y_test, y_pred_knn))\n",
    "knn_r2 = r2_score(y_test, y_pred_knn)\n",
    "\n",
    "performance_comparison = pd.DataFrame({\n",
    "    \"Model\": [\"Regresie Liniară\", \"K-Nearest Neighbors\"],\n",
    "    \"RMSE\": [lin_rmse, knn_rmse],\n",
    "    \"R2 Score\": [lin_r2, knn_r2]\n",
    "})\n",
    "\n",
    "\n"
   ]
  },
  {
   "cell_type": "code",
   "execution_count": 13,
   "id": "a91fcb18-ff3b-4b77-8349-6c0765986444",
   "metadata": {},
   "outputs": [
    {
     "name": "stdout",
     "output_type": "stream",
     "text": [
      "                 Model         RMSE  R2 Score\n",
      "0     Regresie Liniară  1452.293246  0.416890\n",
      "1  K-Nearest Neighbors  1465.474833  0.406257\n"
     ]
    }
   ],
   "source": [
    "# Afișăm compararea performanțelor modelelor\n",
    "print(performance_comparison)"
   ]
  },
  {
   "cell_type": "code",
   "execution_count": 14,
   "id": "3171987e-36dd-49ea-8a8e-3b43757065eb",
   "metadata": {},
   "outputs": [
    {
     "data": {
      "image/png": "[encoded data removed]",
      "text/plain": [
       "<Figure size 1000x500 with 1 Axes>"
      ]
     },
     "metadata": {},
     "output_type": "display_data"
    }
   ],
   "source": [
    "# Grafic pentru distribuția utilizatorilor casual și înregistrați\n",
    "plt.figure(figsize=(10, 5))\n",
    "sns.barplot(x=['Casual', 'Registered'], y=[df['casual_hourly'].sum(), df['registered_hourly'].sum()])\n",
    "plt.title(\"Distribuția utilizatorilor casual și înregistrați\")\n",
    "plt.ylabel(\"Total utilizatori\")\n",
    "plt.show()"
   ]
  },
  {
   "cell_type": "markdown",
   "id": "2fe84d01-71d4-428f-88ac-f574915d6274",
   "metadata": {},
   "source": [
    "### Comentariu"
   ]
  },
  {
   "cell_type": "markdown",
   "id": "4aa1b045-dc88-421b-bc1c-a3cf2cfd589f",
   "metadata": {},
   "source": [
    "Aceste modele nu sut chiar potrivite ptu acest dataset deoarece debalansarea dintre date este destul de semnificativa"
   ]
  }
 ],
 "metadata": {
  "kernelspec": {
   "display_name": "Python 3.11.9",
   "language": "python",
   "name": "myenv"
  },
  "language_info": {
   "codemirror_mode": {
    "name": "ipython",
    "version": 3
   },
   "file_extension": ".py",
   "mimetype": "text/x-python",
   "name": "python",
   "nbconvert_exporter": "python",
   "pygments_lexer": "ipython3",
   "version": "3.11.9"
  }
 },
 "nbformat": 4,
 "nbformat_minor": 5
}
